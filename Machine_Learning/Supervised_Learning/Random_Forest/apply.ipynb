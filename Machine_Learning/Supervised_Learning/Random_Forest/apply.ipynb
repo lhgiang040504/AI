{
 "cells": [
  {
   "cell_type": "code",
   "execution_count": 1,
   "id": "c4d7db67",
   "metadata": {},
   "outputs": [],
   "source": [
    "import numpy as np\n",
    "import pandas as pd"
   ]
  },
  {
   "cell_type": "code",
   "execution_count": 2,
   "id": "c14e686f",
   "metadata": {},
   "outputs": [],
   "source": [
    "def accuracy(y_tets, y_pred):\n",
    "    accuracy = np.sum(y_test = y_pred) / len(y_test)\n",
    "    return accuracy"
   ]
  },
  {
   "cell_type": "code",
   "execution_count": 3,
   "id": "c4a76ee9",
   "metadata": {},
   "outputs": [],
   "source": [
    "# Read data\n",
    "df = pd.read_csv(\"../Decision_Tree/data/data.csv\")\n",
    "\n",
    "# Get feature and target\n",
    "y = df['Classification'].values.reshape(-1, 1)\n",
    "X = df.drop(columns = 'Classification').values"
   ]
  },
  {
   "cell_type": "code",
   "execution_count": 4,
   "id": "767b4df5",
   "metadata": {},
   "outputs": [],
   "source": [
    "from sklearn.model_selection import train_test_split\n",
    "# Split data to train and test\n",
    "X_train, X_test, y_train, y_test = train_test_split(X, y, random_state=42, test_size=0.2)"
   ]
  },
  {
   "cell_type": "code",
   "execution_count": 6,
   "id": "000a2f54",
   "metadata": {},
   "outputs": [
    {
     "name": "stdout",
     "output_type": "stream",
     "text": [
      "[[2 1 1 2 1 1 2 1 1 1]]\n",
      "24\n"
     ]
    }
   ],
   "source": [
    "from RandomForest import RandomForest\n",
    "# Import Random Forest model build-self\n",
    "model = RandomForest()\n",
    "\n",
    "# Fit model trainset\n",
    "model.fit(X_train, y_train)\n",
    "\n",
    "# Use model to pred testset\n",
    "y_pred = model.predict(X_test)\n",
    "\n",
    "print(y_pred)\n",
    "print(len(y_test))"
   ]
  },
  {
   "cell_type": "code",
   "execution_count": 8,
   "id": "82696e71",
   "metadata": {},
   "outputs": [
    {
     "name": "stdout",
     "output_type": "stream",
     "text": [
      "acv\n"
     ]
    }
   ],
   "source": [
    "print('acv')"
   ]
  },
  {
   "cell_type": "code",
   "execution_count": null,
   "id": "524c80be",
   "metadata": {},
   "outputs": [],
   "source": []
  }
 ],
 "metadata": {
  "kernelspec": {
   "display_name": "Python 3 (ipykernel)",
   "language": "python",
   "name": "python3"
  },
  "language_info": {
   "codemirror_mode": {
    "name": "ipython",
    "version": 3
   },
   "file_extension": ".py",
   "mimetype": "text/x-python",
   "name": "python",
   "nbconvert_exporter": "python",
   "pygments_lexer": "ipython3",
   "version": "3.9.13"
  }
 },
 "nbformat": 4,
 "nbformat_minor": 5
}
