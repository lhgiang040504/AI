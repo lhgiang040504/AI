{
 "cells": [
  {
   "cell_type": "code",
   "execution_count": 3,
   "id": "ec2e90b6",
   "metadata": {},
   "outputs": [],
   "source": [
    "import numpy as np\n",
    "import pandas as pd\n",
    "from sklearn.linear_model import LinearRegression\n",
    "from sklearn.model_selection import train_test_split\n",
    "from sklearn.metrics import mean_squared_error\n",
    "from sklearn.metrics import accuracy_score\n",
    "from sklearn.metrics import r2_score\n",
    "\n",
    "import matplotlib.pyplot as plt\n",
    "\n",
    "import mutiple_LinearRegression as MLR"
   ]
  },
  {
   "cell_type": "code",
   "execution_count": 11,
   "id": "67634a8f",
   "metadata": {},
   "outputs": [],
   "source": [
    "df = pd.read_csv(\"infor_weather.csv\")"
   ]
  },
  {
   "cell_type": "code",
   "execution_count": 12,
   "id": "1fa03bcb",
   "metadata": {},
   "outputs": [],
   "source": [
    "# Splitting the DataFrame into training and testing sets with a 70-30 split ratio\n",
    "# and specifying a random seed for reproducibility\n",
    "train, test = train_test_split(df, test_size = 0.3, random_state=40)\n",
    "\n",
    "# Split the data again to simplify the problem with curr practice\n",
    "x_train = train.iloc[:, :-1] # All columns except the last one\n",
    "y_train = train.iloc[:, -1]  # The last column\n",
    "\n",
    "x_test = test.iloc[:, :-1]\n",
    "y_test = test.iloc[:, -1]\n"
   ]
  },
  {
   "cell_type": "code",
   "execution_count": 13,
   "id": "37db83a0",
   "metadata": {},
   "outputs": [
    {
     "name": "stdout",
     "output_type": "stream",
     "text": [
      "[[194.82319475]\n",
      " [132.35714487]\n",
      " [223.88401133]\n",
      " ...\n",
      " [ 84.01346063]\n",
      " [163.62365736]\n",
      " [151.37446613]]\n"
     ]
    }
   ],
   "source": [
    "# Create Linear Regression model\n",
    "model = LinearRegression()\n",
    "\n",
    "# Fit model to data\n",
    "model.fit(x_train, y_train)\n",
    "\n",
    "# Prediction\n",
    "y_pred = model.predict(x_test)\n",
    "y_pred = y_pred.reshape(-1, 1)\n",
    "print(y_pred)"
   ]
  },
  {
   "cell_type": "code",
   "execution_count": 14,
   "id": "0cc4a53e",
   "metadata": {},
   "outputs": [
    {
     "name": "stdout",
     "output_type": "stream",
     "text": [
      "[[194.82319475]\n",
      " [132.35714487]\n",
      " [223.88401134]\n",
      " ...\n",
      " [ 84.01346063]\n",
      " [163.62365736]\n",
      " [151.37446614]]\n"
     ]
    }
   ],
   "source": [
    "\"\"\"Manual\"\"\"\n",
    "# Handle arguments\n",
    "x_trainM = x_train.values\n",
    "y_trainM = y_train.values\n",
    "\n",
    "x_testM = x_test.values\n",
    "y_testM = y_test.values\n",
    "\n",
    "model_Manual = MLR.LinearRegression()\n",
    "\n",
    "# Compute coeficient\n",
    "model_Manual.fit(x_train, y_train)\n",
    "\n",
    "# Predicttion\n",
    "y_predManual = model_Manual.predict(x_testM)\n",
    "y_predManual = y_predManual.reshape(-1, 1)\n",
    "print(y_predManual)"
   ]
  },
  {
   "cell_type": "code",
   "execution_count": 15,
   "id": "90883bd8",
   "metadata": {},
   "outputs": [
    {
     "name": "stdout",
     "output_type": "stream",
     "text": [
      "[[-1.99241867e-09]\n",
      " [-1.91658955e-09]\n",
      " [-1.94970085e-09]\n",
      " ...\n",
      " [-2.03938555e-09]\n",
      " [-2.58071964e-09]\n",
      " [-2.21791652e-09]]\n"
     ]
    }
   ],
   "source": [
    "print(y_pred - y_predManual)"
   ]
  },
  {
   "cell_type": "code",
   "execution_count": 19,
   "id": "470dbe3f",
   "metadata": {},
   "outputs": [
    {
     "name": "stdout",
     "output_type": "stream",
     "text": [
      "R-squared: 0.4255921846491679\n",
      "R-squared: 0.4255921846500029\n"
     ]
    }
   ],
   "source": [
    "\n",
    "# Assuming y_true contains the true values and y_pred contains the predicted values\n",
    "r_squared = r2_score(y_test.values.reshape(-1, 1), y_predManual)\n",
    "r_squared_ = r2_score(y_test.values.reshape(-1, 1), y_pred)\n",
    "\n",
    "# Print the R-squared value\n",
    "print(\"R-squared:\", r_squared)\n",
    "print(\"R-squared:\", r_squared_)"
   ]
  },
  {
   "cell_type": "code",
   "execution_count": null,
   "id": "9e3ee821",
   "metadata": {},
   "outputs": [],
   "source": []
  }
 ],
 "metadata": {
  "kernelspec": {
   "display_name": "Python 3 (ipykernel)",
   "language": "python",
   "name": "python3"
  },
  "language_info": {
   "codemirror_mode": {
    "name": "ipython",
    "version": 3
   },
   "file_extension": ".py",
   "mimetype": "text/x-python",
   "name": "python",
   "nbconvert_exporter": "python",
   "pygments_lexer": "ipython3",
   "version": "3.9.13"
  }
 },
 "nbformat": 4,
 "nbformat_minor": 5
}
