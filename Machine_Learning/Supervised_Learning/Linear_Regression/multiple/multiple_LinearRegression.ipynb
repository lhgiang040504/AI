{
 "cells": [
  {
   "cell_type": "code",
   "execution_count": 70,
   "id": "ec2e90b6",
   "metadata": {},
   "outputs": [],
   "source": [
    "import numpy as np\n",
    "import pandas as pd\n",
    "\n",
    "import pro_version as MLR\n",
    "from sklearn.linear_model import LinearRegression\n",
    "from sklearn.model_selection import train_test_split\n",
    "from sklearn.preprocessing import StandardScaler\n",
    "\n",
    "from sklearn.model_selection import KFold, cross_validate\n",
    "from sklearn.pipeline import make_pipeline\n",
    "\n",
    "\n",
    "import matplotlib.pyplot as plt\n",
    "import seaborn as sns"
   ]
  },
  {
   "cell_type": "code",
   "execution_count": 71,
   "id": "67634a8f",
   "metadata": {},
   "outputs": [],
   "source": [
    "df = pd.read_csv(\"infor_Data.csv\")"
   ]
  },
  {
   "cell_type": "markdown",
   "id": "43d69930",
   "metadata": {},
   "source": [
    "# Train - Test Split"
   ]
  },
  {
   "cell_type": "code",
   "execution_count": 72,
   "id": "1fa03bcb",
   "metadata": {},
   "outputs": [
    {
     "name": "stdout",
     "output_type": "stream",
     "text": [
      "(5630, 9)\n",
      "(5630,)\n",
      "(2413, 9)\n",
      "(2413,)\n"
     ]
    }
   ],
   "source": [
    "# Splitting the DataFrame into training and testing sets with a 70-30 split ratio\n",
    "# and specifying a random seed for reproducibility\n",
    "train, test = train_test_split(df, test_size = 0.3, random_state=40)\n",
    "\n",
    "# Split the data again to simplify the problem with curr practice\n",
    "x_train = train.iloc[:, :-1] # All columns except the last one\n",
    "y_train = train.iloc[:, -1]  # The last column\n",
    "\n",
    "x_test = test.iloc[:, :-1]\n",
    "y_test = test.iloc[:, -1]\n",
    "\n",
    "print(x_train.shape)\n",
    "print(y_train.shape)\n",
    "print(x_test.shape)\n",
    "print(y_test.shape)"
   ]
  },
  {
   "cell_type": "markdown",
   "id": "d3f0e761",
   "metadata": {},
   "source": [
    "# Normalize the dataset"
   ]
  },
  {
   "cell_type": "code",
   "execution_count": 73,
   "id": "e98b35b3",
   "metadata": {},
   "outputs": [],
   "source": [
    "scaler = StandardScaler()\n",
    "# Fit the scaler on the training data\n",
    "scaler.fit(x_train)\n",
    "\n",
    "# Scale the training data\n",
    "x_train_scaler = scaler.transform(x_train)\n",
    "\n",
    "# Scale the test data using the same scaler\n",
    "x_test_scaler = scaler.transform(x_test)"
   ]
  },
  {
   "cell_type": "markdown",
   "id": "3813f834",
   "metadata": {},
   "source": [
    "# Linear Regression by Model Built-in"
   ]
  },
  {
   "cell_type": "code",
   "execution_count": 74,
   "id": "37db83a0",
   "metadata": {},
   "outputs": [
    {
     "name": "stdout",
     "output_type": "stream",
     "text": [
      "(2413, 1)\n"
     ]
    }
   ],
   "source": [
    "# Create Linear Regression model\n",
    "model = LinearRegression()\n",
    "\n",
    "# Fit model to data\n",
    "model.fit(x_train_scaler, y_train)\n",
    "\n",
    "# Prediction\n",
    "y_pred = model.predict(x_test_scaler)\n",
    "\n",
    "y_pred = y_pred.reshape(-1, 1)\n",
    "print(y_pred.shape)"
   ]
  },
  {
   "cell_type": "markdown",
   "id": "14b257cd",
   "metadata": {},
   "source": [
    "# Linear regression by Model Built-self"
   ]
  },
  {
   "cell_type": "code",
   "execution_count": 75,
   "id": "0cc4a53e",
   "metadata": {},
   "outputs": [
    {
     "name": "stdout",
     "output_type": "stream",
     "text": [
      "(2413, 1)\n"
     ]
    }
   ],
   "source": [
    "\"\"\"Manual\"\"\"\n",
    "model_Manual = MLR.Multiple_LinearRegression()\n",
    "\n",
    "# Compute coeficient\n",
    "model_Manual.fit(x_train, y_train)\n",
    "\n",
    "# Predicttion\n",
    "y_predManual = model_Manual.predict(x_test)\n",
    "\n",
    "print(y_predManual.shape)"
   ]
  },
  {
   "cell_type": "markdown",
   "id": "5225d087",
   "metadata": {},
   "source": [
    "# Simple Evaluation"
   ]
  },
  {
   "cell_type": "code",
   "execution_count": 76,
   "id": "470dbe3f",
   "metadata": {},
   "outputs": [
    {
     "name": "stdout",
     "output_type": "stream",
     "text": [
      "5513.8635243797535\n"
     ]
    }
   ],
   "source": [
    "print(model_Manual.MSE(y_test, y_pred))"
   ]
  },
  {
   "cell_type": "markdown",
   "id": "496ac7df",
   "metadata": {},
   "source": [
    "# Evaluate the model using K-fold Cross-Validation"
   ]
  },
  {
   "cell_type": "code",
   "execution_count": 81,
   "id": "b0aaad2c",
   "metadata": {},
   "outputs": [
    {
     "data": {
      "text/html": [
       "<div>\n",
       "<style scoped>\n",
       "    .dataframe tbody tr th:only-of-type {\n",
       "        vertical-align: middle;\n",
       "    }\n",
       "\n",
       "    .dataframe tbody tr th {\n",
       "        vertical-align: top;\n",
       "    }\n",
       "\n",
       "    .dataframe thead th {\n",
       "        text-align: right;\n",
       "    }\n",
       "</style>\n",
       "<table border=\"1\" class=\"dataframe\">\n",
       "  <thead>\n",
       "    <tr style=\"text-align: right;\">\n",
       "      <th></th>\n",
       "      <th>Mean</th>\n",
       "      <th>Std</th>\n",
       "    </tr>\n",
       "  </thead>\n",
       "  <tbody>\n",
       "    <tr>\n",
       "      <th>MAE</th>\n",
       "      <td>37.289934</td>\n",
       "      <td>0.469135</td>\n",
       "    </tr>\n",
       "    <tr>\n",
       "      <th>MSE</th>\n",
       "      <td>2194.293207</td>\n",
       "      <td>57.240772</td>\n",
       "    </tr>\n",
       "    <tr>\n",
       "      <th>RMSE</th>\n",
       "      <td>46.839346</td>\n",
       "      <td>0.607335</td>\n",
       "    </tr>\n",
       "    <tr>\n",
       "      <th>R2-Score</th>\n",
       "      <td>0.433233</td>\n",
       "      <td>0.020660</td>\n",
       "    </tr>\n",
       "  </tbody>\n",
       "</table>\n",
       "</div>"
      ],
      "text/plain": [
       "                 Mean        Std\n",
       "MAE         37.289934   0.469135\n",
       "MSE       2194.293207  57.240772\n",
       "RMSE        46.839346   0.607335\n",
       "R2-Score     0.433233   0.020660"
      ]
     },
     "execution_count": 81,
     "metadata": {},
     "output_type": "execute_result"
    }
   ],
   "source": [
    "linear_reg_cv = LinearRegression()\n",
    "scaler = StandardScaler()\n",
    "\n",
    "# Create a pipeline that combines scaling and linear regression\n",
    "pipeline = make_pipeline(StandardScaler(),  LinearRegression())\n",
    "\n",
    "# Define the number of splits and set up cross-validation\n",
    "kf = KFold(n_splits=6, shuffle=True, random_state=0) \n",
    "\n",
    "\n",
    "# Define the scoring metrics to be used during cross-validation\n",
    "scoring = ['neg_mean_absolute_error', 'neg_mean_squared_error', 'neg_root_mean_squared_error', 'r2']\n",
    "\n",
    "# Perform cross-validation on the pipeline using the specified scoring metrics\n",
    "result = cross_validate(pipeline, x_train, y_train, cv=kf, return_train_score=True, scoring=scoring)\n",
    "\n",
    "# Calculate the mean and standard deviation of each scoring metric\n",
    "MAE_mean = (-result['test_neg_mean_absolute_error']).mean()\n",
    "MAE_std = (-result['test_neg_mean_absolute_error']).std()\n",
    "MSE_mean = (-result['test_neg_mean_squared_error']).mean()\n",
    "MSE_std = (-result['test_neg_mean_squared_error']).std()\n",
    "RMSE_mean = (-result['test_neg_root_mean_squared_error']).mean()\n",
    "RMSE_std = (-result['test_neg_root_mean_squared_error']).std()\n",
    "R2_Score_mean = result['test_r2'].mean()\n",
    "R2_Score_std = result['test_r2'].std()\n",
    "\n",
    "# Create a DataFrame to display the mean and standard deviation of each scoring metric\n",
    "pd.DataFrame({'Mean': [MAE_mean,MSE_mean,RMSE_mean,R2_Score_mean], 'Std': [MAE_std,MSE_std,RMSE_std,R2_Score_std]},\n",
    "             index=['MAE', 'MSE', 'RMSE' ,'R2-Score'])"
   ]
  },
  {
   "cell_type": "markdown",
   "id": "09b297aa",
   "metadata": {},
   "source": [
    "# Visualized Result\n"
   ]
  },
  {
   "cell_type": "code",
   "execution_count": 82,
   "id": "541d28de",
   "metadata": {},
   "outputs": [
    {
     "name": "stdout",
     "output_type": "stream",
     "text": [
      "      Actual   Predicted\n",
      "520   181.50  166.811798\n",
      "5230  135.00  159.446776\n",
      "133   235.00  185.665556\n",
      "5646  209.38  206.615783\n",
      "1224  119.94  171.286089\n",
      "...      ...         ...\n",
      "7661  343.56  187.988579\n",
      "692   165.25  181.584688\n",
      "7356   62.50  137.970601\n",
      "7685  141.25  158.690144\n",
      "4806  112.88  159.719580\n",
      "\n",
      "[2413 rows x 2 columns]\n"
     ]
    }
   ],
   "source": [
    "df_comp = pd.DataFrame({'Actual':y_test, 'Predicted':y_predManual.reshape(-1)})\n",
    "print(df_comp)"
   ]
  },
  {
   "cell_type": "code",
   "execution_count": 83,
   "id": "68721385",
   "metadata": {},
   "outputs": [
    {
     "data": {
      "image/png": "[encoded data removed]",
      "text/plain": [
       "<Figure size 2000x700 with 1 Axes>"
      ]
     },
     "metadata": {},
     "output_type": "display_data"
    }
   ],
   "source": [
    "def compare_plot(df_comp):\n",
    "    df_comp.reset_index(inplace=True)\n",
    "    df_comp.plot(y=['Actual','Predicted'], kind='bar', figsize=(20,7), width=0.8)\n",
    "    plt.title('Predicted vs. Actual Target Values for Test Data', fontsize=20)\n",
    "    plt.ylabel('Selling_Price', fontsize=15)\n",
    "    plt.show()\n",
    "\n",
    "compare_plot(df_comp)"
   ]
  }
 ],
 "metadata": {
  "kernelspec": {
   "display_name": "Python 3 (ipykernel)",
   "language": "python",
   "name": "python3"
  },
  "language_info": {
   "codemirror_mode": {
    "name": "ipython",
    "version": 3
   },
   "file_extension": ".py",
   "mimetype": "text/x-python",
   "name": "python",
   "nbconvert_exporter": "python",
   "pygments_lexer": "ipython3",
   "version": "3.9.13"
  }
 },
 "nbformat": 4,
 "nbformat_minor": 5
}
