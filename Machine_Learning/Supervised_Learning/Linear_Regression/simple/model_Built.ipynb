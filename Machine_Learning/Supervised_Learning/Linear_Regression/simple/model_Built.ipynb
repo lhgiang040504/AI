{
 "cells": [
  {
   "cell_type": "code",
   "execution_count": 1,
   "id": "51d09d60",
   "metadata": {},
   "outputs": [],
   "source": [
    "import numpy as np\n",
    "import pandas as pd\n",
    "from sklearn.linear_model import LinearRegression\n",
    "from sklearn.model_selection import train_test_split\n",
    "from sklearn.metrics import mean_squared_error\n",
    "import matplotlib.pyplot as plt\n",
    "from sklearn.metrics import accuracy_score\n",
    "from sklearn.metrics import r2_score\n",
    "\n",
    "import simple_LinearRegression as SLR"
   ]
  },
  {
   "cell_type": "code",
   "execution_count": 2,
   "id": "8f72f819",
   "metadata": {},
   "outputs": [],
   "source": [
    "# Get the data which need to predict\n",
    "df = pd.read_csv(\"dataset.csv\")"
   ]
  },
  {
   "cell_type": "code",
   "execution_count": 1,
   "id": "ec26b823",
   "metadata": {},
   "outputs": [
    {
     "ename": "NameError",
     "evalue": "name 'train_test_split' is not defined",
     "output_type": "error",
     "traceback": [
      "\u001b[1;31m---------------------------------------------------------------------------\u001b[0m",
      "\u001b[1;31mNameError\u001b[0m                                 Traceback (most recent call last)",
      "\u001b[1;32m~\\AppData\\Local\\Temp\\ipykernel_16252\\1471392057.py\u001b[0m in \u001b[0;36m<module>\u001b[1;34m\u001b[0m\n\u001b[0;32m      1\u001b[0m \u001b[1;31m# Splitting the DataFrame into training and testing sets with a 70-30 split ratio\u001b[0m\u001b[1;33m\u001b[0m\u001b[1;33m\u001b[0m\u001b[0m\n\u001b[0;32m      2\u001b[0m \u001b[1;31m# and specifying a random seed for reproducibility\u001b[0m\u001b[1;33m\u001b[0m\u001b[1;33m\u001b[0m\u001b[0m\n\u001b[1;32m----> 3\u001b[1;33m \u001b[0mtrain\u001b[0m\u001b[1;33m,\u001b[0m \u001b[0mtest\u001b[0m \u001b[1;33m=\u001b[0m \u001b[0mtrain_test_split\u001b[0m\u001b[1;33m(\u001b[0m\u001b[0mdf\u001b[0m\u001b[1;33m,\u001b[0m \u001b[0mtest_size\u001b[0m \u001b[1;33m=\u001b[0m \u001b[1;36m0.3\u001b[0m\u001b[1;33m,\u001b[0m \u001b[0mrandom_state\u001b[0m\u001b[1;33m=\u001b[0m\u001b[1;36m40\u001b[0m\u001b[1;33m)\u001b[0m\u001b[1;33m\u001b[0m\u001b[1;33m\u001b[0m\u001b[0m\n\u001b[0m\u001b[0;32m      4\u001b[0m \u001b[1;33m\u001b[0m\u001b[0m\n\u001b[0;32m      5\u001b[0m \u001b[1;31m# Split the data again to simplify the problem with curr practice\u001b[0m\u001b[1;33m\u001b[0m\u001b[1;33m\u001b[0m\u001b[0m\n",
      "\u001b[1;31mNameError\u001b[0m: name 'train_test_split' is not defined"
     ]
    }
   ],
   "source": [
    "# Splitting the DataFrame into training and testing sets with a 70-30 split ratio\n",
    "# and specifying a random seed for reproducibility\n",
    "train, test = train_test_split(df, test_size = 0.3, random_state=40)\n",
    "\n",
    "# Split the data again to simplify the problem with curr practice\n",
    "x_train = train[[\"SAT\"]]\n",
    "y_train = train[[\"GPA\"]]\n",
    "\n",
    "x_test = test[[\"SAT\"]]\n",
    "y_test = test[[\"GPA\"]]\n",
    "\n",
    "\"\"\"\n",
    "x_train = train[\"Profit\"]:\n",
    "-This line of code assigns the column \"Profit\" from your train dataset to the variable x_train.\n",
    "-The result is a Pandas Series containing the values of the \"Profit\" column.\n",
    "-x_train will be a 1D array-like object.\n",
    "\n",
    "x_train = train[[\"Profit\"]]:\n",
    "-This line of code assigns a DataFrame containing a single column, \"Profit,\" from your train dataset to the variable x_train.\n",
    "-The result is a Pandas DataFrame with one column.\n",
    "-x_train will be a 2D DataFrame.\n",
    "\"\"\"\n",
    "\n",
    "print(x_train)\n"
   ]
  },
  {
   "cell_type": "code",
   "execution_count": 4,
   "id": "89d992f1",
   "metadata": {},
   "outputs": [
    {
     "name": "stdout",
     "output_type": "stream",
     "text": [
      "[[3.35084088]\n",
      " [3.35084088]\n",
      " [3.08922864]\n",
      " [3.3595131 ]\n",
      " [3.23521116]\n",
      " [3.33349642]\n",
      " [3.23521116]\n",
      " [3.36529459]\n",
      " [3.52428545]\n",
      " [3.28290842]\n",
      " [3.21497596]\n",
      " [3.40576499]\n",
      " [3.34361402]\n",
      " [3.46068911]\n",
      " [3.40576499]\n",
      " [3.2381019 ]\n",
      " [3.38552979]\n",
      " [3.1470435 ]\n",
      " [3.1773963 ]\n",
      " [3.58932716]\n",
      " [3.49682339]\n",
      " [3.31615196]\n",
      " [3.1166907 ]\n",
      " [3.45201688]\n",
      " [3.35373162]\n",
      " [3.21931207]]\n"
     ]
    }
   ],
   "source": [
    "# Create Linear Regression model\n",
    "model = LinearRegression()\n",
    "\n",
    "# Fit model to data\n",
    "model.fit(x_train, y_train)\n",
    "\n",
    "# Prediction\n",
    "y_pred = model.predict(x_test)\n",
    "y_pred = y_pred.reshape(-1, 1)\n",
    "print(y_pred)"
   ]
  },
  {
   "cell_type": "code",
   "execution_count": 5,
   "id": "4c7eb6ce",
   "metadata": {},
   "outputs": [
    {
     "name": "stdout",
     "output_type": "stream",
     "text": [
      "[[3.35084088]\n",
      " [3.35084088]\n",
      " [3.08922864]\n",
      " [3.3595131 ]\n",
      " [3.23521116]\n",
      " [3.33349642]\n",
      " [3.23521116]\n",
      " [3.36529459]\n",
      " [3.52428545]\n",
      " [3.28290842]\n",
      " [3.21497596]\n",
      " [3.40576499]\n",
      " [3.34361402]\n",
      " [3.46068911]\n",
      " [3.40576499]\n",
      " [3.2381019 ]\n",
      " [3.38552979]\n",
      " [3.1470435 ]\n",
      " [3.1773963 ]\n",
      " [3.58932716]\n",
      " [3.49682339]\n",
      " [3.31615196]\n",
      " [3.1166907 ]\n",
      " [3.45201688]\n",
      " [3.35373162]\n",
      " [3.21931207]]\n"
     ]
    }
   ],
   "source": [
    "\"\"\"Manual\"\"\"\n",
    "# Handle arguments\n",
    "x_trainM = x_train.values\n",
    "y_trainM = y_train.values\n",
    "\n",
    "x_testM = x_test.values\n",
    "y_testM = y_test.values\n",
    "\n",
    "# Compute coeficient\n",
    "model_Manual = SLR.compute_CoefficientModel(x_trainM, y_trainM)\n",
    "\n",
    "# Predicttion\n",
    "y_predManual = SLR.predict_LableModel(x_testM, model_Manual)\n",
    "\n",
    "print(y_predManual)"
   ]
  },
  {
   "cell_type": "code",
   "execution_count": 6,
   "id": "8fc23933",
   "metadata": {},
   "outputs": [
    {
     "name": "stdout",
     "output_type": "stream",
     "text": [
      "[[0.0000000e+00]\n",
      " [0.0000000e+00]\n",
      " [4.4408921e-16]\n",
      " [0.0000000e+00]\n",
      " [4.4408921e-16]\n",
      " [0.0000000e+00]\n",
      " [4.4408921e-16]\n",
      " [0.0000000e+00]\n",
      " [0.0000000e+00]\n",
      " [0.0000000e+00]\n",
      " [0.0000000e+00]\n",
      " [0.0000000e+00]\n",
      " [0.0000000e+00]\n",
      " [0.0000000e+00]\n",
      " [0.0000000e+00]\n",
      " [0.0000000e+00]\n",
      " [4.4408921e-16]\n",
      " [0.0000000e+00]\n",
      " [0.0000000e+00]\n",
      " [0.0000000e+00]\n",
      " [0.0000000e+00]\n",
      " [0.0000000e+00]\n",
      " [4.4408921e-16]\n",
      " [0.0000000e+00]\n",
      " [0.0000000e+00]\n",
      " [0.0000000e+00]]\n"
     ]
    }
   ],
   "source": [
    "print(y_pred - y_predManual)"
   ]
  },
  {
   "cell_type": "code",
   "execution_count": 7,
   "id": "d327e3fb",
   "metadata": {},
   "outputs": [
    {
     "data": {
      "image/png": "[encoded data removed]",
      "text/plain": [
       "<Figure size 640x480 with 1 Axes>"
      ]
     },
     "metadata": {},
     "output_type": "display_data"
    }
   ],
   "source": [
    "# Plot the data points and regression line\n",
    "plt.scatter(x_train, y_train, label=\"Data Points\")\n",
    "plt.scatter(x_test, y_test, label=\"Data Points\")\n",
    "plt.plot(x_test[\"SAT\"].values.reshape(-1, 1), y_predManual, color='green', label=\"Linear Regression Manual Line\")\n",
    "plt.plot(x_test[\"SAT\"].values.reshape(-1, 1), y_pred, color='red', label=\"Linear Regression Line\")\n",
    "\n",
    "plt.xlabel(\"X\")\n",
    "plt.ylabel(\"y\")\n",
    "plt.legend()\n",
    "plt.show()"
   ]
  },
  {
   "cell_type": "code",
   "execution_count": 10,
   "id": "9ec8a35b",
   "metadata": {},
   "outputs": [
    {
     "name": "stdout",
     "output_type": "stream",
     "text": [
      "Mean Squared Error (MSE): 0.04400138727942031\n"
     ]
    }
   ],
   "source": [
    "# Compute cost\n",
    "# Calculate the Mean Squared Error (MSE) as the cost\n",
    "mse = mean_squared_error(y_test[\"GPA\"].values.reshape(-1, 1), y_pred)\n",
    "\n",
    "# Print the MSE (cost)\n",
    "print(\"Mean Squared Error (MSE):\", mse)"
   ]
  },
  {
   "cell_type": "code",
   "execution_count": 12,
   "id": "4c5d7876",
   "metadata": {},
   "outputs": [
    {
     "name": "stdout",
     "output_type": "stream",
     "text": [
      "R-squared: 0.4467416783061997\n"
     ]
    }
   ],
   "source": [
    "\n",
    "# Assuming y_true contains the true values and y_pred contains the predicted values\n",
    "r_squared = r2_score(y_test[\"GPA\"].values.reshape(-1, 1), y_pred)\n",
    "\n",
    "# Print the R-squared value\n",
    "print(\"R-squared:\", r_squared)\n"
   ]
  },
  {
   "cell_type": "code",
   "execution_count": null,
   "id": "972ccf26",
   "metadata": {},
   "outputs": [],
   "source": []
  }
 ],
 "metadata": {
  "kernelspec": {
   "display_name": "Python 3 (ipykernel)",
   "language": "python",
   "name": "python3"
  },
  "language_info": {
   "codemirror_mode": {
    "name": "ipython",
    "version": 3
   },
   "file_extension": ".py",
   "mimetype": "text/x-python",
   "name": "python",
   "nbconvert_exporter": "python",
   "pygments_lexer": "ipython3",
   "version": "3.9.13"
  }
 },
 "nbformat": 4,
 "nbformat_minor": 5
}
