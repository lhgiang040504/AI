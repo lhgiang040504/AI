{
 "cells": [
  {
   "cell_type": "code",
   "execution_count": 17,
   "id": "51d09d60",
   "metadata": {},
   "outputs": [],
   "source": [
    "import numpy as np\n",
    "import pandas as pd\n",
    "from sklearn.linear_model import LinearRegression\n",
    "from sklearn.model_selection import train_test_split\n",
    "from sklearn.metrics import mean_squared_error\n",
    "import matplotlib.pyplot as plt\n",
    "from sklearn.metrics import accuracy_score\n",
    "from sklearn.metrics import r2_score"
   ]
  },
  {
   "cell_type": "code",
   "execution_count": 3,
   "id": "8f72f819",
   "metadata": {},
   "outputs": [
    {
     "name": "stdout",
     "output_type": "stream",
     "text": [
      "    R&D Spend  Administration  Marketing Spend       State     Profit\n",
      "0   165349.20       136897.80        471784.10    New York  192261.83\n",
      "1   162597.70       151377.59        443898.53  California  191792.06\n",
      "2   153441.51       101145.55        407934.54     Florida  191050.39\n",
      "3   144372.41       118671.85        383199.62    New York  182901.99\n",
      "4   142107.34        91391.77        366168.42     Florida  166187.94\n",
      "5   131876.90        99814.71        362861.36    New York  156991.12\n",
      "6   134615.46       147198.87        127716.82  California  156122.51\n",
      "7   130298.13       145530.06        323876.68     Florida  155752.60\n",
      "8   120542.52       148718.95        311613.29    New York  152211.77\n",
      "9   123334.88       108679.17        304981.62  California  149759.96\n",
      "10  101913.08       110594.11        229160.95     Florida  146121.95\n",
      "11  100671.96        91790.61        249744.55  California  144259.40\n",
      "12   93863.75       127320.38        249839.44     Florida  141585.52\n",
      "13   91992.39       135495.07        252664.93  California  134307.35\n",
      "14  119943.24       156547.42        256512.92     Florida  132602.65\n",
      "15  114523.61       122616.84        261776.23    New York  129917.04\n",
      "16   78013.11       121597.55        264346.06  California  126992.93\n",
      "17   94657.16       145077.58        282574.31    New York  125370.37\n",
      "18   91749.16       114175.79        294919.57     Florida  124266.90\n",
      "19   86419.70       153514.11             0.00    New York  122776.86\n",
      "20   76253.86       113867.30        298664.47  California  118474.03\n",
      "21   78389.47       153773.43        299737.29    New York  111313.02\n",
      "22   73994.56       122782.75        303319.26     Florida  110352.25\n",
      "23   67532.53       105751.03        304768.73     Florida  108733.99\n",
      "24   77044.01        99281.34        140574.81    New York  108552.04\n",
      "25   64664.71       139553.16        137962.62  California  107404.34\n",
      "26   75328.87       144135.98        134050.07     Florida  105733.54\n",
      "27   72107.60       127864.55        353183.81    New York  105008.31\n",
      "28   66051.52       182645.56        118148.20     Florida  103282.38\n",
      "29   65605.48       153032.06        107138.38    New York  101004.64\n",
      "30   61994.48       115641.28         91131.24     Florida   99937.59\n",
      "31   61136.38       152701.92         88218.23    New York   97483.56\n",
      "32   63408.86       129219.61         46085.25  California   97427.84\n",
      "33   55493.95       103057.49        214634.81     Florida   96778.92\n",
      "34   46426.07       157693.92        210797.67  California   96712.80\n",
      "35   46014.02        85047.44        205517.64    New York   96479.51\n",
      "36   28663.76       127056.21        201126.82     Florida   90708.19\n",
      "37   44069.95        51283.14        197029.42  California   89949.14\n",
      "38   20229.59        65947.93        185265.10    New York   81229.06\n",
      "39   38558.51        82982.09        174999.30  California   81005.76\n",
      "40   28754.33       118546.05        172795.67  California   78239.91\n",
      "41   27892.92        84710.77        164470.71     Florida   77798.83\n",
      "42   23640.93        96189.63        148001.11  California   71498.49\n",
      "43   15505.73       127382.30         35534.17    New York   69758.98\n",
      "44   22177.74       154806.14         28334.72  California   65200.33\n",
      "45    1000.23       124153.04          1903.93    New York   64926.08\n",
      "46    1315.46       115816.21        297114.46     Florida   49490.75\n",
      "47       0.00       135426.92             0.00  California   42559.73\n",
      "48     542.05        51743.15             0.00    New York   35673.41\n",
      "49       0.00       116983.80         45173.06  California   14681.40\n"
     ]
    }
   ],
   "source": [
    "# Get the data which need to predict\n",
    "df = pd.read_csv(\"50_Startups.csv\")\n",
    "print(df)"
   ]
  },
  {
   "cell_type": "code",
   "execution_count": 12,
   "id": "ec26b823",
   "metadata": {},
   "outputs": [
    {
     "name": "stdout",
     "output_type": "stream",
     "text": [
      "       Profit\n",
      "33   96778.92\n",
      "29  101004.64\n",
      "49   14681.40\n",
      "38   81229.06\n",
      "45   64926.08\n",
      "0   192261.83\n",
      "18  124266.90\n",
      "4   166187.94\n",
      "11  144259.40\n",
      "2   191050.39\n",
      "16  126992.93\n",
      "35   96479.51\n",
      "25  107404.34\n",
      "21  111313.02\n",
      "44   65200.33\n",
      "    R&D Spend\n",
      "33   55493.95\n",
      "29   65605.48\n",
      "49       0.00\n",
      "38   20229.59\n",
      "45    1000.23\n",
      "0   165349.20\n",
      "18   91749.16\n",
      "4   142107.34\n",
      "11  100671.96\n",
      "2   153441.51\n",
      "16   78013.11\n",
      "35   46014.02\n",
      "25   64664.71\n",
      "21   78389.47\n",
      "44   22177.74\n"
     ]
    },
    {
     "data": {
      "text/plain": [
       "'\\nx_train = train[\"Profit\"]:\\n-This line of code assigns the column \"Profit\" from your train dataset to the variable x_train.\\n-The result is a Pandas Series containing the values of the \"Profit\" column.\\n-x_train will be a 1D array-like object.\\n\\nx_train = train[[\"Profit\"]]:\\n-This line of code assigns a DataFrame containing a single column, \"Profit,\" from your train dataset to the variable x_train.\\n-The result is a Pandas DataFrame with one column.\\n-x_train will be a 2D DataFrame.\\n'"
      ]
     },
     "execution_count": 12,
     "metadata": {},
     "output_type": "execute_result"
    }
   ],
   "source": [
    "# Splitting the DataFrame into training and testing sets with a 70-30 split ratio\n",
    "# and specifying a random seed for reproducibility\n",
    "train, test = train_test_split(df, test_size = 0.3, random_state=40)\n",
    "\n",
    "# Split the data again to simplify the problem with curr practice\n",
    "x_train = train[[\"Profit\"]]\n",
    "y_train = train[[\"R&D Spend\"]]\n",
    "\n",
    "x_test = test[[\"Profit\"]]\n",
    "y_test = test[[\"R&D Spend\"]]\n",
    "\n",
    "print(x_test)\n",
    "print(y_test)\n",
    "\n",
    "\"\"\"\n",
    "x_train = train[\"Profit\"]:\n",
    "-This line of code assigns the column \"Profit\" from your train dataset to the variable x_train.\n",
    "-The result is a Pandas Series containing the values of the \"Profit\" column.\n",
    "-x_train will be a 1D array-like object.\n",
    "\n",
    "x_train = train[[\"Profit\"]]:\n",
    "-This line of code assigns a DataFrame containing a single column, \"Profit,\" from your train dataset to the variable x_train.\n",
    "-The result is a Pandas DataFrame with one column.\n",
    "-x_train will be a 2D DataFrame.\n",
    "\"\"\"\n"
   ]
  },
  {
   "cell_type": "code",
   "execution_count": 13,
   "id": "89d992f1",
   "metadata": {},
   "outputs": [
    {
     "data": {
      "text/plain": [
       "LinearRegression()"
      ]
     },
     "execution_count": 13,
     "metadata": {},
     "output_type": "execute_result"
    }
   ],
   "source": [
    "# Create Linear Regression model\n",
    "model = LinearRegression()\n",
    "\n",
    "# Fit model to data\n",
    "model.fit(x_train, y_train)\n",
    "\n"
   ]
  },
  {
   "cell_type": "code",
   "execution_count": 21,
   "id": "245ee247",
   "metadata": {},
   "outputs": [
    {
     "name": "stdout",
     "output_type": "stream",
     "text": [
      "[[ 55493.95]\n",
      " [ 65605.48]\n",
      " [     0.  ]\n",
      " [ 20229.59]\n",
      " [  1000.23]\n",
      " [165349.2 ]\n",
      " [ 91749.16]\n",
      " [142107.34]\n",
      " [100671.96]\n",
      " [153441.51]\n",
      " [ 78013.11]\n",
      " [ 46014.02]\n",
      " [ 64664.71]\n",
      " [ 78389.47]\n",
      " [ 22177.74]]\n",
      "[[ 56925.61595757]\n",
      " [ 61785.54298667]\n",
      " [-37493.31299876]\n",
      " [ 39041.99259574]\n",
      " [ 20292.21902893]\n",
      " [166738.8489984 ]\n",
      " [ 88539.06336467]\n",
      " [136751.72188999]\n",
      " [111532.0896724 ]\n",
      " [165345.59293787]\n",
      " [ 91674.22302483]\n",
      " [ 56581.2697274 ]\n",
      " [ 69145.72657859]\n",
      " [ 73641.03142133]\n",
      " [ 20607.62918098]]\n",
      "       Profit\n",
      "33   96778.92\n",
      "29  101004.64\n",
      "49   14681.40\n",
      "38   81229.06\n",
      "45   64926.08\n",
      "0   192261.83\n",
      "18  124266.90\n",
      "4   166187.94\n",
      "11  144259.40\n",
      "2   191050.39\n",
      "16  126992.93\n",
      "35   96479.51\n",
      "25  107404.34\n",
      "21  111313.02\n",
      "44   65200.33\n"
     ]
    }
   ],
   "source": [
    "# Prediction\n",
    "y_pred = model.predict(x_test)\n",
    "y_pred = y_pred.reshape(-1, 1)\n",
    "print(y_test[\"R&D Spend\"].values.reshape(-1, 1))\n",
    "print(y_pred)"
   ]
  },
  {
   "cell_type": "code",
   "execution_count": 15,
   "id": "d327e3fb",
   "metadata": {},
   "outputs": [
    {
     "data": {
      "image/png": "[encoded data removed]",
      "text/plain": [
       "<Figure size 640x480 with 1 Axes>"
      ]
     },
     "metadata": {},
     "output_type": "display_data"
    }
   ],
   "source": [
    "# Plot the data points and regression line\n",
    "plt.scatter(x_train, y_train, label=\"Data Points\")\n",
    "plt.scatter(x_test, y_test, label=\"Data Points\")\n",
    "plt.plot(x_test[\"Profit\"].values.reshape(-1, 1), y_pred, color='red', label=\"Linear Regression Line\")\n",
    "plt.xlabel(\"X\")\n",
    "plt.ylabel(\"y\")\n",
    "plt.legend()\n",
    "plt.show()"
   ]
  },
  {
   "cell_type": "code",
   "execution_count": 22,
   "id": "9ec8a35b",
   "metadata": {},
   "outputs": [
    {
     "name": "stdout",
     "output_type": "stream",
     "text": [
      "Mean Squared Error (MSE): 186.16204916630588\n"
     ]
    }
   ],
   "source": [
    "# Compute cost\n",
    "# Calculate the Mean Squared Error (MSE) as the cost\n",
    "mse = mean_squared_error(y_test[\"R&D Spend\"].values.reshape(-1, 1)/1000, y_pred/1000)\n",
    "\n",
    "# Print the MSE (cost)\n",
    "print(\"Mean Squared Error (MSE):\", mse)"
   ]
  },
  {
   "cell_type": "code",
   "execution_count": 24,
   "id": "4c5d7876",
   "metadata": {},
   "outputs": [
    {
     "name": "stdout",
     "output_type": "stream",
     "text": [
      "R-squared: 0.9264746135766566\n"
     ]
    }
   ],
   "source": [
    "\n",
    "# Assuming y_true contains the true values and y_pred contains the predicted values\n",
    "r_squared = r2_score(y_test[\"R&D Spend\"].values.reshape(-1, 1), y_pred)\n",
    "\n",
    "# Print the R-squared value\n",
    "print(\"R-squared:\", r_squared)\n"
   ]
  }
 ],
 "metadata": {
  "kernelspec": {
   "display_name": "Python 3 (ipykernel)",
   "language": "python",
   "name": "python3"
  },
  "language_info": {
   "codemirror_mode": {
    "name": "ipython",
    "version": 3
   },
   "file_extension": ".py",
   "mimetype": "text/x-python",
   "name": "python",
   "nbconvert_exporter": "python",
   "pygments_lexer": "ipython3",
   "version": "3.9.13"
  }
 },
 "nbformat": 4,
 "nbformat_minor": 5
}
