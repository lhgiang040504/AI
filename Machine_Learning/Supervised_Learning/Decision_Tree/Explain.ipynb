{
 "cells": [
  {
   "cell_type": "code",
   "execution_count": 11,
   "id": "eab101b2",
   "metadata": {},
   "outputs": [],
   "source": [
    "import numpy as np\n",
    "import pandas as pd"
   ]
  },
  {
   "cell_type": "code",
   "execution_count": 12,
   "id": "f7cf84d9",
   "metadata": {},
   "outputs": [],
   "source": [
    "df = pd.read_csv('data.csv')"
   ]
  },
  {
   "cell_type": "code",
   "execution_count": 13,
   "id": "6b099e73",
   "metadata": {},
   "outputs": [
    {
     "data": {
      "text/html": [
       "<div>\n",
       "<style scoped>\n",
       "    .dataframe tbody tr th:only-of-type {\n",
       "        vertical-align: middle;\n",
       "    }\n",
       "\n",
       "    .dataframe tbody tr th {\n",
       "        vertical-align: top;\n",
       "    }\n",
       "\n",
       "    .dataframe thead th {\n",
       "        text-align: right;\n",
       "    }\n",
       "</style>\n",
       "<table border=\"1\" class=\"dataframe\">\n",
       "  <thead>\n",
       "    <tr style=\"text-align: right;\">\n",
       "      <th></th>\n",
       "      <th>Age</th>\n",
       "      <th>BMI</th>\n",
       "      <th>Glucose</th>\n",
       "      <th>Insulin</th>\n",
       "      <th>HOMA</th>\n",
       "      <th>Leptin</th>\n",
       "      <th>Adiponectin</th>\n",
       "      <th>Resistin</th>\n",
       "      <th>MCP.1</th>\n",
       "      <th>Classification</th>\n",
       "    </tr>\n",
       "  </thead>\n",
       "  <tbody>\n",
       "    <tr>\n",
       "      <th>0</th>\n",
       "      <td>48</td>\n",
       "      <td>23.500000</td>\n",
       "      <td>70</td>\n",
       "      <td>2.707</td>\n",
       "      <td>0.467409</td>\n",
       "      <td>8.8071</td>\n",
       "      <td>9.702400</td>\n",
       "      <td>7.99585</td>\n",
       "      <td>417.114</td>\n",
       "      <td>1</td>\n",
       "    </tr>\n",
       "    <tr>\n",
       "      <th>1</th>\n",
       "      <td>83</td>\n",
       "      <td>20.690495</td>\n",
       "      <td>92</td>\n",
       "      <td>3.115</td>\n",
       "      <td>0.706897</td>\n",
       "      <td>8.8438</td>\n",
       "      <td>5.429285</td>\n",
       "      <td>4.06405</td>\n",
       "      <td>468.786</td>\n",
       "      <td>1</td>\n",
       "    </tr>\n",
       "    <tr>\n",
       "      <th>2</th>\n",
       "      <td>82</td>\n",
       "      <td>23.124670</td>\n",
       "      <td>91</td>\n",
       "      <td>4.498</td>\n",
       "      <td>1.009651</td>\n",
       "      <td>17.9393</td>\n",
       "      <td>22.432040</td>\n",
       "      <td>9.27715</td>\n",
       "      <td>554.697</td>\n",
       "      <td>1</td>\n",
       "    </tr>\n",
       "    <tr>\n",
       "      <th>3</th>\n",
       "      <td>68</td>\n",
       "      <td>21.367521</td>\n",
       "      <td>77</td>\n",
       "      <td>3.226</td>\n",
       "      <td>0.612725</td>\n",
       "      <td>9.8827</td>\n",
       "      <td>7.169560</td>\n",
       "      <td>12.76600</td>\n",
       "      <td>928.220</td>\n",
       "      <td>1</td>\n",
       "    </tr>\n",
       "    <tr>\n",
       "      <th>4</th>\n",
       "      <td>86</td>\n",
       "      <td>21.111111</td>\n",
       "      <td>92</td>\n",
       "      <td>3.549</td>\n",
       "      <td>0.805386</td>\n",
       "      <td>6.6994</td>\n",
       "      <td>4.819240</td>\n",
       "      <td>10.57635</td>\n",
       "      <td>773.920</td>\n",
       "      <td>1</td>\n",
       "    </tr>\n",
       "  </tbody>\n",
       "</table>\n",
       "</div>"
      ],
      "text/plain": [
       "   Age        BMI  Glucose  Insulin      HOMA   Leptin  Adiponectin  Resistin  \\\n",
       "0   48  23.500000       70    2.707  0.467409   8.8071     9.702400   7.99585   \n",
       "1   83  20.690495       92    3.115  0.706897   8.8438     5.429285   4.06405   \n",
       "2   82  23.124670       91    4.498  1.009651  17.9393    22.432040   9.27715   \n",
       "3   68  21.367521       77    3.226  0.612725   9.8827     7.169560  12.76600   \n",
       "4   86  21.111111       92    3.549  0.805386   6.6994     4.819240  10.57635   \n",
       "\n",
       "     MCP.1  Classification  \n",
       "0  417.114               1  \n",
       "1  468.786               1  \n",
       "2  554.697               1  \n",
       "3  928.220               1  \n",
       "4  773.920               1  "
      ]
     },
     "execution_count": 13,
     "metadata": {},
     "output_type": "execute_result"
    }
   ],
   "source": [
    "df.head(5)"
   ]
  },
  {
   "cell_type": "code",
   "execution_count": 14,
   "id": "b4632f86",
   "metadata": {},
   "outputs": [
    {
     "name": "stdout",
     "output_type": "stream",
     "text": [
      "<class 'pandas.core.frame.DataFrame'>\n",
      "RangeIndex: 116 entries, 0 to 115\n",
      "Data columns (total 10 columns):\n",
      " #   Column          Non-Null Count  Dtype  \n",
      "---  ------          --------------  -----  \n",
      " 0   Age             116 non-null    int64  \n",
      " 1   BMI             116 non-null    float64\n",
      " 2   Glucose         116 non-null    int64  \n",
      " 3   Insulin         116 non-null    float64\n",
      " 4   HOMA            116 non-null    float64\n",
      " 5   Leptin          116 non-null    float64\n",
      " 6   Adiponectin     116 non-null    float64\n",
      " 7   Resistin        116 non-null    float64\n",
      " 8   MCP.1           116 non-null    float64\n",
      " 9   Classification  116 non-null    int64  \n",
      "dtypes: float64(7), int64(3)\n",
      "memory usage: 9.2 KB\n"
     ]
    }
   ],
   "source": [
    "df.info()"
   ]
  },
  {
   "cell_type": "code",
   "execution_count": 30,
   "id": "91e7466a",
   "metadata": {},
   "outputs": [
    {
     "name": "stdout",
     "output_type": "stream",
     "text": [
      "57.30172413793103\n"
     ]
    }
   ],
   "source": [
    "print(sum(df['Age']) / len(df['Age']))"
   ]
  },
  {
   "cell_type": "code",
   "execution_count": 25,
   "id": "d39fb1eb",
   "metadata": {},
   "outputs": [],
   "source": [
    "def gini(y):\n",
    "    # Calculate the Gini impurity of a target variable\n",
    "    classes, counts = np.unique(y, return_counts=True)\n",
    "    probabilities = counts / len(y)\n",
    "    gini_impurity = 1 - np.sum(probabilities ** 2)\n",
    "    return gini_impurity"
   ]
  },
  {
   "cell_type": "code",
   "execution_count": 28,
   "id": "35756422",
   "metadata": {},
   "outputs": [
    {
     "name": "stdout",
     "output_type": "stream",
     "text": [
      "(116, 9)\n",
      "(116, 1)\n"
     ]
    }
   ],
   "source": [
    "y = df['Classification'].values.reshape(-1, 1)\n",
    "X = df.drop(columns='Classification')\n",
    "print(X.shape)\n",
    "print(y.shape)"
   ]
  },
  {
   "cell_type": "code",
   "execution_count": 40,
   "id": "95ec8396",
   "metadata": {},
   "outputs": [],
   "source": [
    "a = gini(y)"
   ]
  },
  {
   "cell_type": "code",
   "execution_count": 43,
   "id": "0889659f",
   "metadata": {},
   "outputs": [],
   "source": [
    "def gini_index(X, y, feature_idx, threshold):\n",
    "    # Calculate the Gini index for a given feature and threshold\n",
    "    #gini_parent = gini(y)\n",
    "\n",
    "    # Split the data based on the given feature and threshold - relabel true-false\n",
    "    left_mask = X.iloc[:, feature_idx] <= threshold\n",
    "    right_mask = X.iloc[:, feature_idx] > threshold\n",
    "    y_left = y[left_mask]\n",
    "    y_right = y[right_mask]\n",
    "\n",
    "    # Calculate the Gini impurity of the left and right subsets\n",
    "    gini_left = gini(y_left)\n",
    "    gini_right = gini(y_right)\n",
    "\n",
    "    # Calculate the Gini index\n",
    "    n_left = len(y_left)\n",
    "    n_right = len(y_right)\n",
    "    n_total = len(y)\n",
    "    gini_index = (n_left / n_total) * gini_left + (n_right / n_total) * gini_right\n",
    "    return gini_index"
   ]
  },
  {
   "cell_type": "code",
   "execution_count": 35,
   "id": "c7c31324",
   "metadata": {
    "scrolled": true
   },
   "outputs": [
    {
     "name": "stdout",
     "output_type": "stream",
     "text": [
      "0      23.500000\n",
      "1      20.690495\n",
      "2      23.124670\n",
      "3      21.367521\n",
      "4      21.111111\n",
      "         ...    \n",
      "111    26.850000\n",
      "112    26.840000\n",
      "113    32.050000\n",
      "114    25.590000\n",
      "115    27.180000\n",
      "Name: BMI, Length: 116, dtype: float64\n"
     ]
    }
   ],
   "source": [
    "print(X.iloc[:, 1])"
   ]
  },
  {
   "cell_type": "code",
   "execution_count": 46,
   "id": "d0609acc",
   "metadata": {},
   "outputs": [],
   "source": [
    "b = gini_index(X, y, 5, 57.3)"
   ]
  },
  {
   "cell_type": "code",
   "execution_count": 47,
   "id": "979d9d39",
   "metadata": {},
   "outputs": [
    {
     "data": {
      "text/plain": [
       "0.0003963535473643365"
      ]
     },
     "execution_count": 47,
     "metadata": {},
     "output_type": "execute_result"
    }
   ],
   "source": [
    "a - b"
   ]
  },
  {
   "cell_type": "code",
   "execution_count": 57,
   "id": "1ce90c89",
   "metadata": {},
   "outputs": [
    {
     "name": "stdout",
     "output_type": "stream",
     "text": [
      "     Age        BMI  Glucose  Insulin       HOMA   Leptin  Adiponectin  \\\n",
      "0     48  23.500000       70    2.707   0.467409   8.8071     9.702400   \n",
      "5     49  22.854458       92    3.226   0.732087   6.8317    13.679750   \n",
      "10    34  21.470000       78    3.469   0.667436  14.5700    13.110000   \n",
      "11    29  23.010000       82    5.663   1.145436  35.5900    26.720000   \n",
      "12    25  22.860000       82    4.090   0.827271  20.4500    23.670000   \n",
      "13    24  18.670000       88    6.107   1.330000   8.8800    36.060000   \n",
      "14    38  23.340000       75    5.782   1.069670  15.2600    17.950000   \n",
      "15    44  20.760000       86    7.553   1.600000  14.0900    20.320000   \n",
      "16    47  22.030000       84    2.869   0.590000  26.6500    38.040000   \n",
      "19    32  36.512637       87   14.026   3.009980  49.3727     5.100000   \n",
      "20    36  28.576676       86    4.345   0.921719  15.1248     8.600000   \n",
      "21    34  31.975015       87    4.530   0.972138  28.7502     7.642760   \n",
      "22    29  32.270788       84    5.810   1.203832  45.6196     6.209635   \n",
      "23    35  30.276817       84    4.376   0.906707  39.2134     9.048185   \n",
      "24    54  30.483158       90    5.537   1.229214  12.3310     9.731380   \n",
      "25    45  37.035608       83    6.760   1.383997  39.9802     4.617125   \n",
      "26    50  38.578759      106    6.703   1.752611  46.6401     4.667645   \n",
      "28    35  35.250761       90    6.817   1.513374  50.6094     6.966895   \n",
      "29    36  34.174890       80    6.590   1.300427  10.2809     5.065915   \n",
      "31    53  36.790166      101   10.175   2.534932  27.1841    20.030000   \n",
      "32    28  35.855815       87    8.576   1.840410  68.5102     4.794200   \n",
      "33    43  34.422174       89   23.194   5.091856  31.2128     8.300955   \n",
      "34    51  27.688778       77    3.855   0.732193  20.0920     3.192090   \n",
      "52    45  21.303949      102   13.852   3.485163   7.6476    21.056625   \n",
      "53    45  20.829995       74    4.560   0.832352   7.7529     8.237405   \n",
      "54    49  20.956608       94   12.305   2.853119  11.2406     8.412175   \n",
      "55    34  24.242424       92   21.699   4.924226  16.7353    21.823745   \n",
      "56    42  21.359915       93    2.999   0.687971  19.0826     8.462915   \n",
      "58    51  19.132653       93    4.364   1.001102  11.0816     5.807620   \n",
      "60    38  22.499637       95    5.261   1.232828   8.4380     4.771920   \n",
      "62    49  21.367521       78    2.640   0.507936   6.3339     3.886145   \n",
      "63    51  22.892820      103    2.740   0.696143   8.0163     9.349775   \n",
      "65    45  23.140496      116    4.902   1.402626  17.9973     4.294705   \n",
      "66    54  24.218750       86    3.730   0.791257   8.6874     3.705230   \n",
      "68    46  20.830000       88    3.420   0.742368  12.8700    18.550000   \n",
      "69    44  19.560000      114   15.890   4.468268  13.0800    20.370000   \n",
      "70    45  20.260000       92    3.440   0.780651   7.6500    16.670000   \n",
      "71    44  24.740000      106   58.460  15.285341  18.1600    16.100000   \n",
      "72    51  18.370000      105    6.030   1.561770   9.6200    12.760000   \n",
      "74    46  22.210000       86   36.940   7.836205  10.1600     9.760000   \n",
      "75    43  26.562500      101   10.555   2.629602   9.8000     6.420295   \n",
      "76    55  31.975015       92   16.635   3.775036  37.2234    11.018455   \n",
      "77    43  31.250000      103    4.328   1.099601  25.7816    12.718960   \n",
      "79    41  26.672763       97   22.033   5.271762  44.7059    13.494865   \n",
      "82    48  32.461911       99   28.677   7.002923  46.0760    21.570000   \n",
      "84    42  29.296875       98    4.172   1.008511  12.2617     6.695585   \n",
      "86    48  28.125000       90    2.540   0.563880  15.5325    10.222310   \n",
      "88    48  31.250000      199   12.162   5.969920  18.1314     4.104105   \n",
      "90    40  30.836531      128   41.894  13.227332  31.0385     6.160995   \n",
      "92    52  30.801249       87   30.212   6.483495  29.2739     6.268540   \n",
      "93    49  32.461911      134   24.887   8.225983  42.3914    10.793940   \n",
      "95    49  29.777778       70    8.396   1.449709  51.3387    10.731740   \n",
      "96    44  27.887617       99    9.208   2.248594  12.6757     5.478170   \n",
      "97    40  27.636054      103    2.432   0.617890  14.3224     6.783870   \n",
      "104   57  34.838148       95   12.548   2.940415  33.1612     2.364950   \n",
      "106   45  29.384757       90    4.713   1.046286  23.8479     6.644245   \n",
      "107   46  33.180000       92    5.750   1.304867  18.6900     9.160000   \n",
      "110   54  36.050000      119   11.910   3.495982  89.2700     8.010000   \n",
      "111   45  26.850000       92    3.330   0.755688  54.6800    12.100000   \n",
      "\n",
      "     Resistin     MCP.1  \n",
      "0     7.99585   417.114  \n",
      "5    10.31760   530.410  \n",
      "10    6.92000   354.600  \n",
      "11    4.58000   174.800  \n",
      "12    5.14000   313.730  \n",
      "13    6.85000   632.220  \n",
      "14    9.35000   165.020  \n",
      "15    7.64000    63.610  \n",
      "16    3.32000   191.720  \n",
      "19   17.10223   588.460  \n",
      "20    9.15390   534.224  \n",
      "21    5.62592   572.783  \n",
      "22   24.60330   904.981  \n",
      "23   16.43706   733.797  \n",
      "24   10.19299  1227.910  \n",
      "25    8.70448   586.173  \n",
      "26   11.78388   887.160  \n",
      "28   22.03703   667.928  \n",
      "29   15.72187   581.313  \n",
      "31   10.26309   695.754  \n",
      "32   21.44366   358.624  \n",
      "33    6.71026   960.246  \n",
      "34   10.37518   473.859  \n",
      "52   23.03408   552.444  \n",
      "53   28.03230   382.955  \n",
      "54   23.11770   573.630  \n",
      "55   12.06534   481.949  \n",
      "56   17.37615   321.919  \n",
      "58    5.57055    90.600  \n",
      "60   15.73606   199.055  \n",
      "62   22.94254   737.672  \n",
      "63   11.55492   359.232  \n",
      "65    5.26330   518.586  \n",
      "66   10.34455   635.049  \n",
      "68   13.56000   301.210  \n",
      "69    4.62000   220.660  \n",
      "70    7.84000   193.870  \n",
      "71    5.31000   244.750  \n",
      "72    3.21000   513.660  \n",
      "74    5.68000   312.000  \n",
      "75   16.10000   806.724  \n",
      "76    7.16514   483.377  \n",
      "77   38.65310   775.322  \n",
      "79   27.83250   783.796  \n",
      "82   10.15726   738.034  \n",
      "84   53.67170  1041.843  \n",
      "86   16.11032  1698.440  \n",
      "88   53.63080  1698.440  \n",
      "90   17.55503   638.261  \n",
      "92   24.24591   764.667  \n",
      "93    5.76800   656.393  \n",
      "95   20.76801   602.486  \n",
      "96   23.03306   407.206  \n",
      "97   26.01360   293.123  \n",
      "104   9.95420   655.834  \n",
      "106  15.55625   621.273  \n",
      "107   8.89000   209.190  \n",
      "110   5.06000   218.280  \n",
      "111  10.96000   268.230  \n"
     ]
    }
   ],
   "source": [
    "left_mask = X.iloc[:, 0] <= 57.3\n",
    "right_mask = X.iloc[:, 0] > 57.3\n",
    "x_left = X[left_mask]\n",
    "print(x_left)"
   ]
  },
  {
   "cell_type": "code",
   "execution_count": 52,
   "id": "6fc709b6",
   "metadata": {},
   "outputs": [
    {
     "name": "stdout",
     "output_type": "stream",
     "text": [
      "(array([False,  True]), array([57, 59], dtype=int64))\n"
     ]
    }
   ],
   "source": [
    "print(np.unique(left_mask, return_counts=True))"
   ]
  },
  {
   "cell_type": "code",
   "execution_count": null,
   "id": "fe48c39b",
   "metadata": {},
   "outputs": [],
   "source": [
    "def find_best_split(self, X, y):\n",
    "    best_gini_index = np.inf\n",
    "    best_feature = None\n",
    "    best_threshold = None\n",
    "\n",
    "    for feature_idx in range(X.shape[1]):\n",
    "        thresholds = np.unique(X[:, feature_idx])\n",
    "        for threshold in thresholds:\n",
    "            gini_index = self.gini_index(X, y, feature_idx, threshold)\n",
    "            if gini_index < best_gini_index:\n",
    "                best_gini_index = gini_index\n",
    "                best_feature = feature_idx\n",
    "                best_threshold = threshold\n",
    "\n",
    "    return best_feature, best_threshold"
   ]
  },
  {
   "cell_type": "code",
   "execution_count": 56,
   "id": "1f835825",
   "metadata": {},
   "outputs": [
    {
     "name": "stdout",
     "output_type": "stream",
     "text": [
      "[24 25 28 29 32 34 35 36 38 40 41 42 43 44 45 46 47 48 49 50 51 52 53 54\n",
      " 55 57 58 59 60 61 62 64 65 66 67 68 69 71 72 73 74 75 76 77 78 81 82 83\n",
      " 85 86 89]\n",
      "0      48\n",
      "1      83\n",
      "2      82\n",
      "3      68\n",
      "4      86\n",
      "       ..\n",
      "111    45\n",
      "112    62\n",
      "113    65\n",
      "114    72\n",
      "115    86\n",
      "Name: Age, Length: 116, dtype: int64\n"
     ]
    }
   ],
   "source": [
    "thresholds = np.unique(X.iloc[:, 0])\n",
    "print(thresholds)\n"
   ]
  },
  {
   "cell_type": "code",
   "execution_count": null,
   "id": "4f223eef",
   "metadata": {},
   "outputs": [],
   "source": [
    "def build_tree(self, X, y, used_features=None):\n",
    "    if used_features is None:\n",
    "        used_features = set()\n",
    "\n",
    "    # Base case: If all samples belong to the same class, return a leaf node\n",
    "    if len(np.unique(y)) == 1:\n",
    "        return {'class': y[0]}\n",
    "\n",
    "    # Base case: If we have no more features to split on, return the majority class\n",
    "    if X.shape[1] == 0 or len(used_features) == X.shape[1]:\n",
    "        unique_classes, counts = np.unique(y, return_counts=True)\n",
    "        majority_class = unique_classes[np.argmax(counts)]\n",
    "        return {'class': majority_class}\n",
    "\n",
    "    # Find the best feature and threshold to split the data, excluding the used features\n",
    "    best_feature, best_threshold = self.find_best_split(X, y, used_features)\n",
    "\n",
    "    # ...\n",
    "\n",
    "    # Recursive call to build subtrees, passing the updated used_features set\n",
    "    left_subtree = self.build_tree(X_left, y_left, used_features | {best_feature})\n",
    "    right_subtree = self.build_tree(X_right, y_right, used_features | {best_feature})\n",
    "\n",
    "    # ...\n",
    "\n",
    "    return node"
   ]
  }
 ],
 "metadata": {
  "kernelspec": {
   "display_name": "Python 3 (ipykernel)",
   "language": "python",
   "name": "python3"
  },
  "language_info": {
   "codemirror_mode": {
    "name": "ipython",
    "version": 3
   },
   "file_extension": ".py",
   "mimetype": "text/x-python",
   "name": "python",
   "nbconvert_exporter": "python",
   "pygments_lexer": "ipython3",
   "version": "3.9.13"
  }
 },
 "nbformat": 4,
 "nbformat_minor": 5
}
