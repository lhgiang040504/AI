{
 "cells": [
  {
   "cell_type": "code",
   "execution_count": 1,
   "id": "707d1796",
   "metadata": {},
   "outputs": [],
   "source": [
    "import numpy as np\n",
    "import pandas as pd\n",
    "from NavieBayes import NavieBayes as model"
   ]
  },
  {
   "cell_type": "code",
   "execution_count": 2,
   "id": "93d7b053",
   "metadata": {},
   "outputs": [],
   "source": [
    "X = np.loadtxt(\"data/data.txt\", delimiter=\",\")\n",
    "y = np.loadtxt(\"data/targets.txt\") - 1"
   ]
  },
  {
   "cell_type": "code",
   "execution_count": 3,
   "id": "b344c570",
   "metadata": {},
   "outputs": [
    {
     "name": "stdout",
     "output_type": "stream",
     "text": [
      "Accept\n",
      "{0: array([-0.11414   ,  0.11169667]), 1: array([1.81612667, 2.54447   ]), 2: array([ 1.6356    , -2.13877667])}\n",
      "{0: array([0.98955529, 1.50756055]), 1: array([1.7073339 , 1.06592179]), 2: array([1.11579721, 1.19174972])}\n",
      "{0: 0.3333333333333333, 1: 0.3333333333333333, 2: 0.3333333333333333}\n"
     ]
    }
   ],
   "source": [
    "NB = model()\n",
    "NB.fit(X, y)\n",
    "y_pred = NB.predict(X)"
   ]
  },
  {
   "cell_type": "code",
   "execution_count": 4,
   "id": "cb038751",
   "metadata": {},
   "outputs": [
    {
     "name": "stdout",
     "output_type": "stream",
     "text": [
      "Accuracy = 0.9\n"
     ]
    }
   ],
   "source": [
    "print(f\"Accuracy = {sum(y == y_pred) / X.shape[0]}\")"
   ]
  },
  {
   "cell_type": "code",
   "execution_count": 5,
   "id": "e4440192",
   "metadata": {},
   "outputs": [
    {
     "data": {
      "text/plain": [
       "array([2, 0, 0, 0, 2, 0, 0, 0, 0, 0, 0, 0, 1, 0, 0, 2, 0, 1, 0, 0, 1, 2,\n",
       "       0, 1, 0, 0, 0, 0, 0, 0, 1, 1, 0, 1, 1, 1, 1, 1, 1, 1, 1, 1, 1, 1,\n",
       "       1, 1, 1, 1, 1, 1, 1, 1, 1, 1, 1, 1, 1, 1, 1, 1, 2, 2, 2, 2, 2, 2,\n",
       "       2, 2, 2, 2, 2, 2, 2, 2, 2, 2, 2, 2, 2, 2, 2, 2, 2, 2, 2, 2, 2, 2,\n",
       "       2, 2], dtype=int64)"
      ]
     },
     "execution_count": 5,
     "metadata": {},
     "output_type": "execute_result"
    }
   ],
   "source": [
    "y_pred"
   ]
  },
  {
   "cell_type": "code",
   "execution_count": null,
   "id": "36c4651b",
   "metadata": {},
   "outputs": [],
   "source": [
    "\n",
    "if __name__ == \"__main__\":\n",
    "    X = np.loadtxt(\"data/data.txt\", delimiter=\",\")\n",
    "    y = np.loadtxt(\"data/targets.txt\") - 1\n",
    "\n",
    "    NB = NavieBayes()\n",
    "    NB.fit(X, y)\n",
    "    y_pred = NB.predict(X)\n",
    "\n",
    "    print(f\"Accuracy: {sum(y_pred==y)/X.shape[0]}\")"
   ]
  }
 ],
 "metadata": {
  "kernelspec": {
   "display_name": "Python 3 (ipykernel)",
   "language": "python",
   "name": "python3"
  },
  "language_info": {
   "codemirror_mode": {
    "name": "ipython",
    "version": 3
   },
   "file_extension": ".py",
   "mimetype": "text/x-python",
   "name": "python",
   "nbconvert_exporter": "python",
   "pygments_lexer": "ipython3",
   "version": "3.9.13"
  }
 },
 "nbformat": 4,
 "nbformat_minor": 5
}
